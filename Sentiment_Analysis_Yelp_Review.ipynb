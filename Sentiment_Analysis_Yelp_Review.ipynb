{
  "nbformat": 4,
  "nbformat_minor": 0,
  "metadata": {
    "colab": {
      "provenance": [],
      "gpuType": "V28",
      "authorship_tag": "ABX9TyNx6KtoSsa9yzbfRfux8dND",
      "include_colab_link": true
    },
    "kernelspec": {
      "name": "python3",
      "display_name": "Python 3"
    },
    "language_info": {
      "name": "python"
    },
    "accelerator": "TPU"
  },
  "cells": [
    {
      "cell_type": "markdown",
      "metadata": {
        "id": "view-in-github",
        "colab_type": "text"
      },
      "source": [
        "<a href=\"https://colab.research.google.com/github/nrysam/sentiment_yelp/blob/main/Sentiment_Analysis_Yelp_Review.ipynb\" target=\"_parent\"><img src=\"https://colab.research.google.com/assets/colab-badge.svg\" alt=\"Open In Colab\"/></a>"
      ]
    },
    {
      "cell_type": "code",
      "execution_count": 1,
      "metadata": {
        "id": "Kljf1ywWq-Gp"
      },
      "outputs": [],
      "source": [
        "#import necessary libraries\n",
        "import tensorflow as tf\n",
        "import numpy as np\n",
        "import pandas as pd\n",
        "from tensorflow.keras.preprocessing.text import Tokenizer\n",
        "from tensorflow.keras.preprocessing.sequence import pad_sequences\n",
        "import matplotlib.pyplot as plt"
      ]
    },
    {
      "cell_type": "code",
      "source": [
        "# Get the dataset\n",
        "!gdown --id 1N3S_QJi6511IG3VHDH3sewcqke8vt8kc"
      ],
      "metadata": {
        "colab": {
          "base_uri": "https://localhost:8080/"
        },
        "id": "fU77_oImsIo-",
        "outputId": "d5439124-8199-4fd7-8f4d-bbd2004e9cb5"
      },
      "execution_count": 2,
      "outputs": [
        {
          "output_type": "stream",
          "name": "stdout",
          "text": [
            "/usr/local/lib/python3.10/dist-packages/gdown/__main__.py:132: FutureWarning: Option `--id` was deprecated in version 4.3.1 and will be removed in 5.0. You don't need to pass it anymore to use a file ID.\n",
            "  warnings.warn(\n",
            "Downloading...\n",
            "From (original): https://drive.google.com/uc?id=1N3S_QJi6511IG3VHDH3sewcqke8vt8kc\n",
            "From (redirected): https://drive.google.com/uc?id=1N3S_QJi6511IG3VHDH3sewcqke8vt8kc&confirm=t&uuid=3fe0056a-63a9-4729-910a-263ccb0ffd07\n",
            "To: /content/yelp_review_fine-grained_5_classes_csv.zip\n",
            "100% 201M/201M [00:08<00:00, 23.8MB/s]\n"
          ]
        }
      ]
    },
    {
      "cell_type": "code",
      "source": [
        "# Unzip the dataset\n",
        "!unzip -q 'yelp_review_fine-grained_5_classes_csv.zip' -d dataset"
      ],
      "metadata": {
        "id": "oIfeGhKjsoiy"
      },
      "execution_count": 3,
      "outputs": []
    },
    {
      "cell_type": "code",
      "source": [
        "# Load the datasets\n",
        "train_data = pd.read_csv('./dataset/yelp_review_fine-grained_5_classes_csv/train.csv')\n",
        "test_data = pd.read_csv('./dataset/yelp_review_fine-grained_5_classes_csv/test.csv')\n",
        "\n",
        "# Prepare the labels\n",
        "train_data['Sentiment'] = train_data['class_index'].apply(lambda x: 1 if x > 3 else 0)\n",
        "test_data['Sentiment'] = test_data['class_index'].apply(lambda x: 1 if x > 3 else 0)\n",
        "\n",
        "# Split data\n",
        "x_train, y_train = train_data['review_text'], train_data['Sentiment']\n",
        "x_test, y_test = test_data['review_text'], test_data['Sentiment']"
      ],
      "metadata": {
        "id": "R39rMdU2s9Yl"
      },
      "execution_count": 4,
      "outputs": []
    },
    {
      "cell_type": "code",
      "source": [
        "NUM_WORDS = 5000\n",
        "EMBEDDING_DIM = 8\n",
        "MAXLEN = 100\n",
        "PADDING = 'post'\n",
        "OOV_TOKEN = \"<OOV>\""
      ],
      "metadata": {
        "id": "bSM6YxsZxNc6"
      },
      "execution_count": 5,
      "outputs": []
    },
    {
      "cell_type": "code",
      "source": [
        "def fit_tokenizer(train_sentences, num_words, oov_token):\n",
        "    \"\"\"\n",
        "    Instantiates the Tokenizer class on the training sentences\n",
        "\n",
        "    Args:\n",
        "        train_sentences (list of string): lower-cased sentences without stopwords to be used for training\n",
        "        num_words (int) - number of words to keep when tokenizing\n",
        "        oov_token (string) - symbol for the out-of-vocabulary token\n",
        "\n",
        "    Returns:\n",
        "        tokenizer (object): an instance of the Tokenizer class containing the word-index dictionary\n",
        "    \"\"\"\n",
        "\n",
        "    # Instantiate the Tokenizer class, passing in the correct values for num_words and oov_token\n",
        "    tokenizer = Tokenizer(num_words=num_words, oov_token=oov_token)\n",
        "\n",
        "    # Fit the tokenizer to the training sentences\n",
        "    tokenizer.fit_on_texts(train_sentences)\n",
        "\n",
        "    return tokenizer"
      ],
      "metadata": {
        "id": "D4nRqHQWxoJy"
      },
      "execution_count": 6,
      "outputs": []
    },
    {
      "cell_type": "code",
      "source": [
        "# Test your function\n",
        "tokenizer = fit_tokenizer(x_train, NUM_WORDS, OOV_TOKEN)\n",
        "word_index = tokenizer.word_index\n",
        "\n",
        "print(f\"Vocabulary contains {len(word_index)} words\\n\")\n",
        "print(\"<OOV> token included in vocabulary\" if \"<OOV>\" in word_index else \"<OOV> token NOT included in vocabulary\")"
      ],
      "metadata": {
        "colab": {
          "base_uri": "https://localhost:8080/"
        },
        "id": "xoHl_WapxqU_",
        "outputId": "47dd13e0-beb6-4d18-f47f-98379320b4da"
      },
      "execution_count": 8,
      "outputs": [
        {
          "output_type": "stream",
          "name": "stdout",
          "text": [
            "Vocabulary contains 270679 words\n",
            "\n",
            "<OOV> token included in vocabulary\n"
          ]
        }
      ]
    },
    {
      "cell_type": "code",
      "source": [
        "def seq_and_pad(sentences, tokenizer, padding, maxlen):\n",
        "    \"\"\"\n",
        "    Generates an array of token sequences and pads them to the same length\n",
        "\n",
        "    Args:\n",
        "        sentences (list of string): list of sentences to tokenize and pad\n",
        "        tokenizer (object): Tokenizer instance containing the word-index dictionary\n",
        "        padding (string): type of padding to use\n",
        "        maxlen (int): maximum length of the token sequence\n",
        "\n",
        "    Returns:\n",
        "        padded_sequences (array of int): tokenized sentences padded to the same length\n",
        "    \"\"\"\n",
        "\n",
        "    # Convert sentences to sequences\n",
        "    sequences = tokenizer.texts_to_sequences(sentences)\n",
        "\n",
        "    # Pad the sequences using the correct padding and maxlen\n",
        "    padded_sequences = pad_sequences(sequences, maxlen=maxlen, padding=padding)\n",
        "\n",
        "    return padded_sequences"
      ],
      "metadata": {
        "id": "kvc8HYc8xw63"
      },
      "execution_count": 7,
      "outputs": []
    },
    {
      "cell_type": "code",
      "source": [
        "train_padded_seq = seq_and_pad(x_train, tokenizer, PADDING, MAXLEN)\n",
        "val_padded_seq = seq_and_pad(x_test, tokenizer, PADDING, MAXLEN)\n",
        "\n",
        "print(f\"Padded training sequences have shape: {train_padded_seq.shape}\\n\")\n",
        "print(f\"Padded validation sequences have shape: {val_padded_seq.shape}\")"
      ],
      "metadata": {
        "colab": {
          "base_uri": "https://localhost:8080/"
        },
        "id": "rpuKI4TBxy2s",
        "outputId": "3df68896-d668-4479-dbcb-f8569e93f61b"
      },
      "execution_count": 9,
      "outputs": [
        {
          "output_type": "stream",
          "name": "stdout",
          "text": [
            "Padded training sequences have shape: (650000, 100)\n",
            "\n",
            "Padded validation sequences have shape: (50000, 100)\n"
          ]
        }
      ]
    },
    {
      "cell_type": "code",
      "source": [
        "def create_model(num_words, embedding_dim, maxlen):\n",
        "    \"\"\"\n",
        "    Creates a text classifier model\n",
        "\n",
        "    Args:\n",
        "        num_words (int): size of the vocabulary for the Embedding layer input\n",
        "        embedding_dim (int): dimensionality of the Embedding layer output\n",
        "        maxlen (int): length of the input sequences\n",
        "\n",
        "    Returns:\n",
        "        model (tf.keras Model): the text classifier model\n",
        "    \"\"\"\n",
        "\n",
        "    model = tf.keras.Sequential([\n",
        "        tf.keras.layers.Embedding(num_words, embedding_dim, input_length=maxlen),\n",
        "        tf.keras.layers.Bidirectional(tf.keras.layers.LSTM(16, return_sequences = True)),\n",
        "        tf.keras.layers.Dropout(0.5),\n",
        "        tf.keras.layers.Bidirectional(tf.keras.layers.LSTM(8)),\n",
        "        tf.keras.layers.Dropout(0.5),\n",
        "        tf.keras.layers.Dense(1, activation='sigmoid')\n",
        "    ])\n",
        "\n",
        "    model.compile(loss='binary_crossentropy',\n",
        "                  optimizer='adam',\n",
        "                  metrics=['accuracy'])\n",
        "\n",
        "    return model"
      ],
      "metadata": {
        "id": "DNu8rCH9yNEy"
      },
      "execution_count": 10,
      "outputs": []
    },
    {
      "cell_type": "code",
      "source": [
        "model = create_model(NUM_WORDS, EMBEDDING_DIM, MAXLEN)\n",
        "\n",
        "history = model.fit(train_padded_seq, y_train, epochs=10, batch_size=128, validation_data=(val_padded_seq, y_test))"
      ],
      "metadata": {
        "colab": {
          "base_uri": "https://localhost:8080/"
        },
        "id": "EJJ-0zR9yPs6",
        "outputId": "54f73057-8890-46b5-c581-eb980563467a"
      },
      "execution_count": 11,
      "outputs": [
        {
          "output_type": "stream",
          "name": "stdout",
          "text": [
            "Epoch 1/10\n",
            "5079/5079 [==============================] - 899s 175ms/step - loss: 0.3515 - accuracy: 0.8491 - val_loss: 0.3075 - val_accuracy: 0.8632\n",
            "Epoch 2/10\n",
            "5079/5079 [==============================] - 881s 174ms/step - loss: 0.3052 - accuracy: 0.8716 - val_loss: 0.2818 - val_accuracy: 0.8772\n",
            "Epoch 3/10\n",
            "5079/5079 [==============================] - 872s 172ms/step - loss: 0.2830 - accuracy: 0.8818 - val_loss: 0.2811 - val_accuracy: 0.8786\n",
            "Epoch 4/10\n",
            "5079/5079 [==============================] - 876s 172ms/step - loss: 0.2735 - accuracy: 0.8859 - val_loss: 0.2702 - val_accuracy: 0.8814\n",
            "Epoch 5/10\n",
            "5079/5079 [==============================] - 864s 170ms/step - loss: 0.2672 - accuracy: 0.8888 - val_loss: 0.2694 - val_accuracy: 0.8829\n",
            "Epoch 6/10\n",
            "5079/5079 [==============================] - 861s 170ms/step - loss: 0.2623 - accuracy: 0.8908 - val_loss: 0.2714 - val_accuracy: 0.8820\n",
            "Epoch 7/10\n",
            "5079/5079 [==============================] - 859s 169ms/step - loss: 0.2587 - accuracy: 0.8928 - val_loss: 0.2664 - val_accuracy: 0.8843\n",
            "Epoch 8/10\n",
            "5079/5079 [==============================] - 854s 168ms/step - loss: 0.2550 - accuracy: 0.8944 - val_loss: 0.2693 - val_accuracy: 0.8841\n",
            "Epoch 9/10\n",
            "5079/5079 [==============================] - 848s 167ms/step - loss: 0.2520 - accuracy: 0.8960 - val_loss: 0.2703 - val_accuracy: 0.8840\n",
            "Epoch 10/10\n",
            "5079/5079 [==============================] - 851s 168ms/step - loss: 0.2495 - accuracy: 0.8968 - val_loss: 0.2687 - val_accuracy: 0.8820\n"
          ]
        }
      ]
    },
    {
      "cell_type": "code",
      "source": [
        "def plot_graphs(history, metric):\n",
        "    plt.plot(history.history[metric])\n",
        "    plt.plot(history.history[f'val_{metric}'])\n",
        "    plt.xlabel(\"Epochs\")\n",
        "    plt.ylabel(metric)\n",
        "    plt.legend([metric, f'val_{metric}'])\n",
        "    plt.show()\n",
        "\n",
        "plot_graphs(history, \"accuracy\")\n",
        "plot_graphs(history, \"loss\")"
      ],
      "metadata": {
        "id": "nV9NUZrRyTYV",
        "colab": {
          "base_uri": "https://localhost:8080/",
          "height": 881
        },
        "outputId": "5ea456e9-7233-48cf-c487-cdd0a3ecded2"
      },
      "execution_count": 12,
      "outputs": [
        {
          "output_type": "display_data",
          "data": {
            "text/plain": [
              "<Figure size 640x480 with 1 Axes>"
            ],
            "image/png": "[encoded data removed]"
          },
          "metadata": {}
        },
        {
          "output_type": "display_data",
          "data": {
            "text/plain": [
              "<Figure size 640x480 with 1 Axes>"
            ],
            "image/png": "[encoded data removed]"
          },
          "metadata": {}
        }
      ]
    },
    {
      "cell_type": "code",
      "source": [
        "def predict_sentiment(review, tokenizer, model, padding, maxlen):\n",
        "    \"\"\"\n",
        "    Predicts the sentiment of a review.\n",
        "\n",
        "    Args:\n",
        "    review (str): The review text.\n",
        "    tokenizer (Tokenizer): Tokenizer object used for training the model.\n",
        "    model (tf.keras Model): Trained model.\n",
        "    padding (str): Padding type for sequences (default 'post').\n",
        "    maxlen (int): Maximum length of the sequence (default 100).\n",
        "\n",
        "    Returns:\n",
        "    str: 'Positive' or 'Negative' indicating the review sentiment.\n",
        "    \"\"\"\n",
        "    # Tokenize and pad the review\n",
        "    sequence = tokenizer.texts_to_sequences([review])\n",
        "    padded_sequence = pad_sequences(sequence, maxlen=maxlen, padding=padding)\n",
        "\n",
        "    # Predict the sentiment\n",
        "    prediction = model.predict(padded_sequence)[0][0]\n",
        "\n",
        "    # Determine sentiment\n",
        "    sentiment = \"Positive\" if prediction > 0.5 else \"Negative\"\n",
        "\n",
        "    # Print sentiment and prediction probability\n",
        "    print(f\"The sentiment is {sentiment} with with a sentiment value of {prediction:.2f}.\")\n",
        "    return sentiment, prediction"
      ],
      "metadata": {
        "id": "XaA1LWxCPeew"
      },
      "execution_count": 32,
      "outputs": []
    },
    {
      "cell_type": "code",
      "source": [
        "# Example usage:\n",
        "sample_review1 = \"The food was great and the service was excellent!\"\n",
        "sample_review2 = \"Terrible experience. The food was bland and overpriced. The waiters ignored us for 20 minutes. Not recommended.\"\n",
        "sample_review3 = \"It was quite a surprise! Initially seemed a bit pricey, but the flavors and the presentation were beyond expectations.\"\n",
        "sample_review4 = \"The location was great, but the food didn't live up to the hype. The dishes were somewhat underwhelming, given the rave reviews.\"\n",
        "sample_review5 = \"The dessert was phenomenal, a true masterpiece! However, the main course was just average and not what I expected from a highly-rated restaurant.\"\n",
        "\n",
        "predict_sentiment(sample_review1, tokenizer, model, PADDING, MAXLEN)\n",
        "predict_sentiment(sample_review2, tokenizer, model, PADDING, MAXLEN)\n",
        "predict_sentiment(sample_review3, tokenizer, model, PADDING, MAXLEN)\n",
        "predict_sentiment(sample_review4, tokenizer, model, PADDING, MAXLEN)\n",
        "predict_sentiment(sample_review5, tokenizer, model, PADDING, MAXLEN)"
      ],
      "metadata": {
        "colab": {
          "base_uri": "https://localhost:8080/"
        },
        "id": "KpkYKHXdPgKG",
        "outputId": "c810d8e7-e465-426c-d459-9d3ce30fbb93"
      },
      "execution_count": 33,
      "outputs": [
        {
          "output_type": "stream",
          "name": "stdout",
          "text": [
            "1/1 [==============================] - 0s 33ms/step\n",
            "The sentiment is Positive with with a sentiment value of 0.94.\n",
            "1/1 [==============================] - 0s 32ms/step\n",
            "The sentiment is Negative with with a sentiment value of 0.00.\n",
            "1/1 [==============================] - 0s 35ms/step\n",
            "The sentiment is Positive with with a sentiment value of 0.51.\n",
            "1/1 [==============================] - 0s 33ms/step\n",
            "The sentiment is Negative with with a sentiment value of 0.00.\n",
            "1/1 [==============================] - 0s 37ms/step\n",
            "The sentiment is Negative with with a sentiment value of 0.05.\n"
          ]
        },
        {
          "output_type": "execute_result",
          "data": {
            "text/plain": [
              "('Negative', 0.04522979)"
            ]
          },
          "metadata": {},
          "execution_count": 33
        }
      ]
    }
  ]
}